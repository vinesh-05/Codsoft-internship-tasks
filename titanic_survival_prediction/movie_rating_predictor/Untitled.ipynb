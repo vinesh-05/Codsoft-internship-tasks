{
 "cells": [
  {
   "cell_type": "code",
   "execution_count": 1,
   "id": "7b40ca17-6bb7-4ccb-b195-0997ebcd6286",
   "metadata": {},
   "outputs": [],
   "source": [
    "import pandas as pd\n"
   ]
  },
  {
   "cell_type": "code",
   "execution_count": 4,
   "id": "d16d2164-6f57-448b-9af6-93b5a3800bc5",
   "metadata": {},
   "outputs": [],
   "source": [
    "df=pd.read_csv(\"IMDb Movies India.csv\",encoding=\"latin1\")"
   ]
  },
  {
   "cell_type": "code",
   "execution_count": 5,
   "id": "ecc33cee-5330-4040-b162-d0c9bf2b6a49",
   "metadata": {},
   "outputs": [
    {
     "name": "stdout",
     "output_type": "stream",
     "text": [
      "                                     Name    Year Duration            Genre  \\\n",
      "0                                             NaN      NaN            Drama   \n",
      "1      #Gadhvi (He thought he was Gandhi) -2019.0  109 min            Drama   \n",
      "2                             #Homecoming -2021.0   90 min   Drama, Musical   \n",
      "3                                 #Yaaram -2019.0  110 min  Comedy, Romance   \n",
      "4                       ...And Once Again -2010.0  105 min            Drama   \n",
      "...                                   ...     ...      ...              ...   \n",
      "15504                 Zulm Ko Jala Doonga -1988.0      NaN           Action   \n",
      "15505                               Zulmi -1999.0  129 min    Action, Drama   \n",
      "15506                           Zulmi Raj -2005.0      NaN           Action   \n",
      "15507                       Zulmi Shikari -1988.0      NaN           Action   \n",
      "15508                        Zulm-O-Sitam -1998.0  130 min    Action, Drama   \n",
      "\n",
      "       Rating Votes            Director           Actor 1             Actor 2  \\\n",
      "0         NaN   NaN       J.S. Randhawa          Manmauji              Birbal   \n",
      "1         7.0     8       Gaurav Bakshi      Rasika Dugal      Vivek Ghamande   \n",
      "2         NaN   NaN  Soumyajit Majumdar      Sayani Gupta   Plabita Borthakur   \n",
      "3         4.4    35          Ovais Khan           Prateik          Ishita Raj   \n",
      "4         NaN   NaN        Amol Palekar      Rajat Kapoor  Rituparna Sengupta   \n",
      "...       ...   ...                 ...               ...                 ...   \n",
      "15504     4.6    11       Mahendra Shah  Naseeruddin Shah       Sumeet Saigal   \n",
      "15505     4.5   655          Kuku Kohli      Akshay Kumar      Twinkle Khanna   \n",
      "15506     NaN   NaN          Kiran Thej   Sangeeta Tiwari                 NaN   \n",
      "15507     NaN   NaN                 NaN               NaN                 NaN   \n",
      "15508     6.2    20        K.C. Bokadia        Dharmendra          Jaya Prada   \n",
      "\n",
      "               Actor 3  \n",
      "0      Rajendra Bhatia  \n",
      "1        Arvind Jangid  \n",
      "2           Roy Angana  \n",
      "3      Siddhant Kapoor  \n",
      "4          Antara Mali  \n",
      "...                ...  \n",
      "15504    Suparna Anand  \n",
      "15505      Aruna Irani  \n",
      "15506              NaN  \n",
      "15507              NaN  \n",
      "15508      Arjun Sarja  \n",
      "\n",
      "[15509 rows x 10 columns]\n"
     ]
    }
   ],
   "source": [
    "print(df)"
   ]
  },
  {
   "cell_type": "code",
   "execution_count": 6,
   "id": "51daaceb-bda5-4c36-beec-cb85741bc1db",
   "metadata": {},
   "outputs": [],
   "source": [
    "df.to_csv(\"movies_data.csv\")"
   ]
  },
  {
   "cell_type": "code",
   "execution_count": null,
   "id": "0a9ca450-e6a8-4da8-8be6-44e35c2f8f53",
   "metadata": {},
   "outputs": [],
   "source": []
  }
 ],
 "metadata": {
  "kernelspec": {
   "display_name": "Python 3 (ipykernel)",
   "language": "python",
   "name": "python3"
  },
  "language_info": {
   "codemirror_mode": {
    "name": "ipython",
    "version": 3
   },
   "file_extension": ".py",
   "mimetype": "text/x-python",
   "name": "python",
   "nbconvert_exporter": "python",
   "pygments_lexer": "ipython3",
   "version": "3.13.2"
  }
 },
 "nbformat": 4,
 "nbformat_minor": 5
}
